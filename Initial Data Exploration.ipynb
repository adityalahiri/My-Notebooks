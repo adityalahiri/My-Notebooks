{
 "cells": [
  {
   "cell_type": "code",
   "execution_count": 2,
   "metadata": {
    "collapsed": true
   },
   "outputs": [],
   "source": [
    "# Importing modules\n",
    "\n",
    "import pandas as pd # for data wrangling\n",
    "import seaborn as sns # for plotting\n",
    "import matplotlib.pyplot as plt # for plotting\n",
    "import missingno as msno # for visualizing missing values in data\n",
    "import numpy as np # for array computations\n",
    "\n",
    "plt.style.use('ggplot') # setting style for matplotlib"
   ]
  },
  {
   "cell_type": "code",
   "execution_count": 1,
   "metadata": {},
   "outputs": [
    {
     "ename": "NameError",
     "evalue": "name 'pd' is not defined",
     "output_type": "error",
     "traceback": [
      "\u001b[0;31m---------------------------------------------------------------------------\u001b[0m",
      "\u001b[0;31mNameError\u001b[0m                                 Traceback (most recent call last)",
      "\u001b[0;32m<ipython-input-1-b92aabaca897>\u001b[0m in \u001b[0;36m<module>\u001b[0;34m()\u001b[0m\n\u001b[1;32m      1\u001b[0m \u001b[0;31m# Loading the data\u001b[0m\u001b[0;34m\u001b[0m\u001b[0;34m\u001b[0m\u001b[0m\n\u001b[1;32m      2\u001b[0m \u001b[0;34m\u001b[0m\u001b[0m\n\u001b[0;32m----> 3\u001b[0;31m \u001b[0mtrain_df\u001b[0m \u001b[0;34m=\u001b[0m \u001b[0mpd\u001b[0m\u001b[0;34m.\u001b[0m\u001b[0mread_csv\u001b[0m\u001b[0;34m(\u001b[0m\u001b[0;34m\"train.zip\"\u001b[0m\u001b[0;34m,\u001b[0m \u001b[0mcompression\u001b[0m \u001b[0;34m=\u001b[0m \u001b[0;34m'zip'\u001b[0m\u001b[0;34m)\u001b[0m\u001b[0;34m\u001b[0m\u001b[0m\n\u001b[0m",
      "\u001b[0;31mNameError\u001b[0m: name 'pd' is not defined"
     ]
    }
   ],
   "source": [
    "# Loading the data\n",
    "\n",
    "train_df = pd.read_csv(\"train.zip\", compression = 'zip')"
   ]
  },
  {
   "cell_type": "code",
   "execution_count": 17,
   "metadata": {
    "scrolled": true
   },
   "outputs": [
    {
     "data": {
      "text/html": [
       "<div>\n",
       "<style>\n",
       "    .dataframe thead tr:only-child th {\n",
       "        text-align: right;\n",
       "    }\n",
       "\n",
       "    .dataframe thead th {\n",
       "        text-align: left;\n",
       "    }\n",
       "\n",
       "    .dataframe tbody tr th {\n",
       "        vertical-align: top;\n",
       "    }\n",
       "</style>\n",
       "<table border=\"1\" class=\"dataframe\">\n",
       "  <thead>\n",
       "    <tr style=\"text-align: right;\">\n",
       "      <th></th>\n",
       "      <th>id</th>\n",
       "      <th>vendor_id</th>\n",
       "      <th>pickup_datetime</th>\n",
       "      <th>dropoff_datetime</th>\n",
       "      <th>passenger_count</th>\n",
       "      <th>pickup_longitude</th>\n",
       "      <th>pickup_latitude</th>\n",
       "      <th>dropoff_longitude</th>\n",
       "      <th>dropoff_latitude</th>\n",
       "      <th>store_and_fwd_flag</th>\n",
       "      <th>trip_duration</th>\n",
       "      <th>pickup_date</th>\n",
       "      <th>pickup_day</th>\n",
       "      <th>dropoff_date</th>\n",
       "      <th>dropoff_day</th>\n",
       "      <th>trip_in_minutes</th>\n",
       "    </tr>\n",
       "  </thead>\n",
       "  <tbody>\n",
       "    <tr>\n",
       "      <th>0</th>\n",
       "      <td>id2875421</td>\n",
       "      <td>2</td>\n",
       "      <td>2016-03-14 17:24:55</td>\n",
       "      <td>2016-03-14 17:32:30</td>\n",
       "      <td>1</td>\n",
       "      <td>-73.982155</td>\n",
       "      <td>40.767937</td>\n",
       "      <td>-73.964630</td>\n",
       "      <td>40.765602</td>\n",
       "      <td>N</td>\n",
       "      <td>455</td>\n",
       "      <td>2016-03-14</td>\n",
       "      <td>Monday</td>\n",
       "      <td>2016-03-14</td>\n",
       "      <td>Monday</td>\n",
       "      <td>7</td>\n",
       "    </tr>\n",
       "    <tr>\n",
       "      <th>1</th>\n",
       "      <td>id2377394</td>\n",
       "      <td>1</td>\n",
       "      <td>2016-06-12 00:43:35</td>\n",
       "      <td>2016-06-12 00:54:38</td>\n",
       "      <td>1</td>\n",
       "      <td>-73.980415</td>\n",
       "      <td>40.738564</td>\n",
       "      <td>-73.999481</td>\n",
       "      <td>40.731152</td>\n",
       "      <td>N</td>\n",
       "      <td>663</td>\n",
       "      <td>2016-06-12</td>\n",
       "      <td>Sunday</td>\n",
       "      <td>2016-06-12</td>\n",
       "      <td>Sunday</td>\n",
       "      <td>11</td>\n",
       "    </tr>\n",
       "    <tr>\n",
       "      <th>2</th>\n",
       "      <td>id3858529</td>\n",
       "      <td>2</td>\n",
       "      <td>2016-01-19 11:35:24</td>\n",
       "      <td>2016-01-19 12:10:48</td>\n",
       "      <td>1</td>\n",
       "      <td>-73.979027</td>\n",
       "      <td>40.763939</td>\n",
       "      <td>-74.005333</td>\n",
       "      <td>40.710087</td>\n",
       "      <td>N</td>\n",
       "      <td>2124</td>\n",
       "      <td>2016-01-19</td>\n",
       "      <td>Tuesday</td>\n",
       "      <td>2016-01-19</td>\n",
       "      <td>Tuesday</td>\n",
       "      <td>35</td>\n",
       "    </tr>\n",
       "    <tr>\n",
       "      <th>3</th>\n",
       "      <td>id3504673</td>\n",
       "      <td>2</td>\n",
       "      <td>2016-04-06 19:32:31</td>\n",
       "      <td>2016-04-06 19:39:40</td>\n",
       "      <td>1</td>\n",
       "      <td>-74.010040</td>\n",
       "      <td>40.719971</td>\n",
       "      <td>-74.012268</td>\n",
       "      <td>40.706718</td>\n",
       "      <td>N</td>\n",
       "      <td>429</td>\n",
       "      <td>2016-04-06</td>\n",
       "      <td>Wednesday</td>\n",
       "      <td>2016-04-06</td>\n",
       "      <td>Wednesday</td>\n",
       "      <td>7</td>\n",
       "    </tr>\n",
       "    <tr>\n",
       "      <th>4</th>\n",
       "      <td>id2181028</td>\n",
       "      <td>2</td>\n",
       "      <td>2016-03-26 13:30:55</td>\n",
       "      <td>2016-03-26 13:38:10</td>\n",
       "      <td>1</td>\n",
       "      <td>-73.973053</td>\n",
       "      <td>40.793209</td>\n",
       "      <td>-73.972923</td>\n",
       "      <td>40.782520</td>\n",
       "      <td>N</td>\n",
       "      <td>435</td>\n",
       "      <td>2016-03-26</td>\n",
       "      <td>Saturday</td>\n",
       "      <td>2016-03-26</td>\n",
       "      <td>Saturday</td>\n",
       "      <td>7</td>\n",
       "    </tr>\n",
       "  </tbody>\n",
       "</table>\n",
       "</div>"
      ],
      "text/plain": [
       "          id  vendor_id      pickup_datetime     dropoff_datetime  \\\n",
       "0  id2875421          2  2016-03-14 17:24:55  2016-03-14 17:32:30   \n",
       "1  id2377394          1  2016-06-12 00:43:35  2016-06-12 00:54:38   \n",
       "2  id3858529          2  2016-01-19 11:35:24  2016-01-19 12:10:48   \n",
       "3  id3504673          2  2016-04-06 19:32:31  2016-04-06 19:39:40   \n",
       "4  id2181028          2  2016-03-26 13:30:55  2016-03-26 13:38:10   \n",
       "\n",
       "   passenger_count  pickup_longitude  pickup_latitude  dropoff_longitude  \\\n",
       "0                1        -73.982155        40.767937         -73.964630   \n",
       "1                1        -73.980415        40.738564         -73.999481   \n",
       "2                1        -73.979027        40.763939         -74.005333   \n",
       "3                1        -74.010040        40.719971         -74.012268   \n",
       "4                1        -73.973053        40.793209         -73.972923   \n",
       "\n",
       "   dropoff_latitude store_and_fwd_flag  trip_duration pickup_date pickup_day  \\\n",
       "0         40.765602                  N            455  2016-03-14     Monday   \n",
       "1         40.731152                  N            663  2016-06-12     Sunday   \n",
       "2         40.710087                  N           2124  2016-01-19    Tuesday   \n",
       "3         40.706718                  N            429  2016-04-06  Wednesday   \n",
       "4         40.782520                  N            435  2016-03-26   Saturday   \n",
       "\n",
       "  dropoff_date dropoff_day  trip_in_minutes  \n",
       "0   2016-03-14      Monday                7  \n",
       "1   2016-06-12      Sunday               11  \n",
       "2   2016-01-19     Tuesday               35  \n",
       "3   2016-04-06   Wednesday                7  \n",
       "4   2016-03-26    Saturday                7  "
      ]
     },
     "execution_count": 17,
     "metadata": {},
     "output_type": "execute_result"
    }
   ],
   "source": [
    "# First 10 data points\n",
    "\n",
    "train_df.head()"
   ]
  },
  {
   "cell_type": "code",
   "execution_count": null,
   "metadata": {
    "collapsed": true
   },
   "outputs": [],
   "source": [
    "# Summary of dataset\n",
    "\n",
    "train_df.describe()"
   ]
  },
  {
   "cell_type": "code",
   "execution_count": null,
   "metadata": {
    "collapsed": true
   },
   "outputs": [],
   "source": [
    "# Checking for missing values\n",
    "# No missing values\n",
    "\n",
    "msno.matrix(train_df)"
   ]
  },
  {
   "cell_type": "code",
   "execution_count": 3,
   "metadata": {
    "collapsed": true
   },
   "outputs": [],
   "source": [
    "'''This function can take in dropoff_datetime and pickup_datetime columns.It then extracts \n",
    "   two new columns out of each, for instance, pickup_date and pickup_day'''\n",
    "\n",
    "\n",
    "def get_day_date(col_name):\n",
    "    original_datetime = train_df[col_name]\n",
    "    original_datetime.tolist()\n",
    "    \n",
    "    dates_only = []\n",
    "    \n",
    "    for each_datetime in original_datetime:\n",
    "        dates_only.append(each_datetime[:10])\n",
    "    \n",
    "    src_dest, _ = col_name.split('_')\n",
    "    \n",
    "    train_df[src_dest + '_date'] = dates_only\n",
    "    train_df[src_dest + '_date'] = pd.to_datetime(train_df[src_dest + '_date'])\n",
    "    \n",
    "    train_df[src_dest + '_day'] = train_df[src_dest + '_date'].dt.weekday_name\n",
    "    "
   ]
  },
  {
   "cell_type": "code",
   "execution_count": 4,
   "metadata": {
    "collapsed": true
   },
   "outputs": [],
   "source": [
    "# Invoke the get_day_date function on pickup_datetime and dropoff_datetime columns\n",
    "\n",
    "get_day_date('pickup_datetime')\n",
    "get_day_date('dropoff_datetime')"
   ]
  },
  {
   "cell_type": "code",
   "execution_count": 5,
   "metadata": {
    "collapsed": true
   },
   "outputs": [],
   "source": [
    "# Adding a trip_duration in minutes column for clearer visualisations and understanding\n",
    "\n",
    "train_df['trip_in_minutes'] = train_df['trip_duration']//60"
   ]
  },
  {
   "cell_type": "code",
   "execution_count": 22,
   "metadata": {},
   "outputs": [
    {
     "data": {
      "image/png": "[encoded data removed]",
      "text/plain": [
       "<matplotlib.figure.Figure at 0x7f1b78c17710>"
      ]
     },
     "metadata": {},
     "output_type": "display_data"
    }
   ],
   "source": [
    "# Searching for outliers with respect to the target variable, i.e, trip duration\n",
    "# 4 outliers\n",
    "\n",
    "plt.scatter(train_df.index, train_df['trip_in_minutes'])\n",
    "plt.xlabel(\"Index\")\n",
    "plt.ylabel(\"Trip in minutes\")\n",
    "plt.show()\n"
   ]
  },
  {
   "cell_type": "code",
   "execution_count": 31,
   "metadata": {},
   "outputs": [
    {
     "name": "stdout",
     "output_type": "stream",
     "text": [
      "               id  vendor_id      pickup_datetime     dropoff_datetime  \\\n",
      "355003  id1864733          1  2016-01-05 00:19:42  2016-01-27 11:08:38   \n",
      "680594  id0369307          1  2016-02-13 22:38:00  2016-03-08 15:57:38   \n",
      "924150  id1325766          1  2016-01-05 06:14:15  2016-01-31 01:01:07   \n",
      "978383  id0053347          1  2016-02-13 22:46:52  2016-03-25 18:18:14   \n",
      "\n",
      "        passenger_count  pickup_longitude  pickup_latitude  dropoff_longitude  \\\n",
      "355003                1        -73.789650        40.643559         -73.956810   \n",
      "680594                2        -73.921677        40.735252         -73.984749   \n",
      "924150                1        -73.983788        40.742325         -73.985489   \n",
      "978383                1        -73.783905        40.648632         -73.978271   \n",
      "\n",
      "        dropoff_latitude store_and_fwd_flag  trip_duration pickup_date  \\\n",
      "355003         40.773087                  N        1939736  2016-01-05   \n",
      "680594         40.759979                  N        2049578  2016-02-13   \n",
      "924150         40.727676                  N        2227612  2016-01-05   \n",
      "978383         40.750202                  N        3526282  2016-02-13   \n",
      "\n",
      "       pickup_day dropoff_date dropoff_day  trip_in_minutes  \n",
      "355003    Tuesday   2016-01-27   Wednesday            32328  \n",
      "680594   Saturday   2016-03-08     Tuesday            34159  \n",
      "924150    Tuesday   2016-01-31      Sunday            37126  \n",
      "978383   Saturday   2016-03-25      Friday            58771  \n"
     ]
    }
   ],
   "source": [
    "# Examining outliers. Trips greater than a day!\n",
    "# Removing those 4 outliers from train data\n",
    "\n",
    "print(train_df[train_df['trip_in_minutes']>1440])\n",
    "train_df = train_df[train_df['trip_in_minutes'] < 1440]"
   ]
  },
  {
   "cell_type": "code",
   "execution_count": 61,
   "metadata": {
    "collapsed": true
   },
   "outputs": [],
   "source": [
    "'''This function saves the data sent in \"dataframe\" as \"save_as.gz\". It also runs sanity check\n",
    "   to see if it was saved and loaded correctly. NEEDS WORK!'''\n",
    "\n",
    "def save_dataframe(dataframe, save_as):\n",
    "    dataframe.to_csv(save_as + \".gz\", mode = 'w', compression='gzip', index = 'False', encoding='UTF-8')\n",
    "    test_df = pd.read_csv(save_as + \".gz\", compression='gzip', encoding='UTF-8')\n",
    "    del test_df['Unnamed: 0']\n",
    "    \n",
    "    if dataframe.equals(test_df):\n",
    "        print(\"Test-passed: we recover the equivalent subgroup dataframe.\")\n",
    "    else:\n",
    "        print(\"Warning -- equivalence test!!! Double-check.\")"
   ]
  },
  {
   "cell_type": "code",
   "execution_count": 62,
   "metadata": {},
   "outputs": [
    {
     "name": "stdout",
     "output_type": "stream",
     "text": [
      "Warning -- equivalence test!!! Double-check.\n"
     ]
    }
   ],
   "source": [
    "# Saving this modified dataframe\n",
    "\n",
    "save_dataframe(train_df, 'train_day_date_minutes')"
   ]
  },
  {
   "cell_type": "code",
   "execution_count": null,
   "metadata": {
    "collapsed": true
   },
   "outputs": [],
   "source": []
  }
 ],
 "metadata": {
  "kernelspec": {
   "display_name": "Python 3",
   "language": "python",
   "name": "python3"
  },
  "language_info": {
   "codemirror_mode": {
    "name": "ipython",
    "version": 3
   },
   "file_extension": ".py",
   "mimetype": "text/x-python",
   "name": "python",
   "nbconvert_exporter": "python",
   "pygments_lexer": "ipython3",
   "version": "3.6.1"
  }
 },
 "nbformat": 4,
 "nbformat_minor": 2
}
