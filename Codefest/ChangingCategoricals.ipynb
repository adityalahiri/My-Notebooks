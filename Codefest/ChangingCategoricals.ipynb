{
 "cells": [
  {
   "cell_type": "code",
   "execution_count": 1,
   "metadata": {
    "collapsed": true
   },
   "outputs": [],
   "source": [
    "# Importing modules\n",
    "\n",
    "import pandas as pd # for data wrangling\n",
    "import seaborn as sns # for plotting\n",
    "import matplotlib.pyplot as plt # for plotting\n",
    "import missingno as msno # for visualizing missing values in data\n",
    "import numpy as np # for array computations\n",
    "\n",
    "plt.style.use('ggplot') # setting style for matplotlib"
   ]
  },
  {
   "cell_type": "code",
   "execution_count": 2,
   "metadata": {},
   "outputs": [
    {
     "name": "stdout",
     "output_type": "stream",
     "text": [
      "/home/arrayslayer/ML Competitions/Codefest/train\n"
     ]
    }
   ],
   "source": [
    "cd train"
   ]
  },
  {
   "cell_type": "code",
   "execution_count": 3,
   "metadata": {
    "collapsed": true
   },
   "outputs": [],
   "source": [
    "# importing final_merged dataset\n",
    "\n",
    "train_df = pd.read_csv(\"merged_dataset.csv\")"
   ]
  },
  {
   "cell_type": "code",
   "execution_count": 4,
   "metadata": {
    "collapsed": true
   },
   "outputs": [],
   "source": [
    "# removing a random column that was added\n",
    "del train_df['Unnamed: 0']"
   ]
  },
  {
   "cell_type": "code",
   "execution_count": 5,
   "metadata": {},
   "outputs": [
    {
     "data": {
      "text/html": [
       "<div>\n",
       "<style>\n",
       "    .dataframe thead tr:only-child th {\n",
       "        text-align: right;\n",
       "    }\n",
       "\n",
       "    .dataframe thead th {\n",
       "        text-align: left;\n",
       "    }\n",
       "\n",
       "    .dataframe tbody tr th {\n",
       "        vertical-align: top;\n",
       "    }\n",
       "</style>\n",
       "<table border=\"1\" class=\"dataframe\">\n",
       "  <thead>\n",
       "    <tr style=\"text-align: right;\">\n",
       "      <th></th>\n",
       "      <th>user_id</th>\n",
       "      <th>problem_id</th>\n",
       "      <th>attempts_range</th>\n",
       "      <th>submission_count</th>\n",
       "      <th>problem_solved</th>\n",
       "      <th>contribution</th>\n",
       "      <th>country</th>\n",
       "      <th>follower_count</th>\n",
       "      <th>last_online_time_seconds</th>\n",
       "      <th>max_rating</th>\n",
       "      <th>rating</th>\n",
       "      <th>rank</th>\n",
       "      <th>registration_time_seconds</th>\n",
       "      <th>level_type</th>\n",
       "      <th>points</th>\n",
       "      <th>tags</th>\n",
       "    </tr>\n",
       "  </thead>\n",
       "  <tbody>\n",
       "    <tr>\n",
       "      <th>0</th>\n",
       "      <td>user_232</td>\n",
       "      <td>prob_6507</td>\n",
       "      <td>1.0</td>\n",
       "      <td>53.0</td>\n",
       "      <td>47.0</td>\n",
       "      <td>0.0</td>\n",
       "      <td>Bangladesh</td>\n",
       "      <td>1.0</td>\n",
       "      <td>1.503634e+09</td>\n",
       "      <td>307.913</td>\n",
       "      <td>206.709</td>\n",
       "      <td>beginner</td>\n",
       "      <td>1.432111e+09</td>\n",
       "      <td>B</td>\n",
       "      <td>1000.0</td>\n",
       "      <td>strings</td>\n",
       "    </tr>\n",
       "    <tr>\n",
       "      <th>1</th>\n",
       "      <td>user_1910</td>\n",
       "      <td>prob_6507</td>\n",
       "      <td>2.0</td>\n",
       "      <td>240.0</td>\n",
       "      <td>218.0</td>\n",
       "      <td>0.0</td>\n",
       "      <td>Bangladesh</td>\n",
       "      <td>50.0</td>\n",
       "      <td>1.505253e+09</td>\n",
       "      <td>319.954</td>\n",
       "      <td>291.284</td>\n",
       "      <td>beginner</td>\n",
       "      <td>1.385471e+09</td>\n",
       "      <td>B</td>\n",
       "      <td>1000.0</td>\n",
       "      <td>strings</td>\n",
       "    </tr>\n",
       "    <tr>\n",
       "      <th>2</th>\n",
       "      <td>user_1824</td>\n",
       "      <td>prob_6507</td>\n",
       "      <td>2.0</td>\n",
       "      <td>370.0</td>\n",
       "      <td>336.0</td>\n",
       "      <td>-10.0</td>\n",
       "      <td>India</td>\n",
       "      <td>30.0</td>\n",
       "      <td>1.505396e+09</td>\n",
       "      <td>307.339</td>\n",
       "      <td>295.585</td>\n",
       "      <td>beginner</td>\n",
       "      <td>1.471685e+09</td>\n",
       "      <td>B</td>\n",
       "      <td>1000.0</td>\n",
       "      <td>strings</td>\n",
       "    </tr>\n",
       "    <tr>\n",
       "      <th>3</th>\n",
       "      <td>user_895</td>\n",
       "      <td>prob_6507</td>\n",
       "      <td>1.0</td>\n",
       "      <td>318.0</td>\n",
       "      <td>286.0</td>\n",
       "      <td>0.0</td>\n",
       "      <td>Egypt</td>\n",
       "      <td>20.0</td>\n",
       "      <td>1.505511e+09</td>\n",
       "      <td>304.186</td>\n",
       "      <td>191.514</td>\n",
       "      <td>beginner</td>\n",
       "      <td>1.475530e+09</td>\n",
       "      <td>B</td>\n",
       "      <td>1000.0</td>\n",
       "      <td>strings</td>\n",
       "    </tr>\n",
       "    <tr>\n",
       "      <th>4</th>\n",
       "      <td>user_779</td>\n",
       "      <td>prob_6507</td>\n",
       "      <td>1.0</td>\n",
       "      <td>463.0</td>\n",
       "      <td>410.0</td>\n",
       "      <td>0.0</td>\n",
       "      <td>India</td>\n",
       "      <td>39.0</td>\n",
       "      <td>1.504799e+09</td>\n",
       "      <td>374.713</td>\n",
       "      <td>374.713</td>\n",
       "      <td>intermediate</td>\n",
       "      <td>1.437246e+09</td>\n",
       "      <td>B</td>\n",
       "      <td>1000.0</td>\n",
       "      <td>strings</td>\n",
       "    </tr>\n",
       "  </tbody>\n",
       "</table>\n",
       "</div>"
      ],
      "text/plain": [
       "     user_id problem_id  attempts_range  submission_count  problem_solved  \\\n",
       "0   user_232  prob_6507             1.0              53.0            47.0   \n",
       "1  user_1910  prob_6507             2.0             240.0           218.0   \n",
       "2  user_1824  prob_6507             2.0             370.0           336.0   \n",
       "3   user_895  prob_6507             1.0             318.0           286.0   \n",
       "4   user_779  prob_6507             1.0             463.0           410.0   \n",
       "\n",
       "   contribution     country  follower_count  last_online_time_seconds  \\\n",
       "0           0.0  Bangladesh             1.0              1.503634e+09   \n",
       "1           0.0  Bangladesh            50.0              1.505253e+09   \n",
       "2         -10.0       India            30.0              1.505396e+09   \n",
       "3           0.0       Egypt            20.0              1.505511e+09   \n",
       "4           0.0       India            39.0              1.504799e+09   \n",
       "\n",
       "   max_rating   rating          rank  registration_time_seconds level_type  \\\n",
       "0     307.913  206.709      beginner               1.432111e+09          B   \n",
       "1     319.954  291.284      beginner               1.385471e+09          B   \n",
       "2     307.339  295.585      beginner               1.471685e+09          B   \n",
       "3     304.186  191.514      beginner               1.475530e+09          B   \n",
       "4     374.713  374.713  intermediate               1.437246e+09          B   \n",
       "\n",
       "   points     tags  \n",
       "0  1000.0  strings  \n",
       "1  1000.0  strings  \n",
       "2  1000.0  strings  \n",
       "3  1000.0  strings  \n",
       "4  1000.0  strings  "
      ]
     },
     "execution_count": 5,
     "metadata": {},
     "output_type": "execute_result"
    }
   ],
   "source": [
    "train_df.head()"
   ]
  },
  {
   "cell_type": "code",
   "execution_count": 6,
   "metadata": {
    "collapsed": true
   },
   "outputs": [],
   "source": [
    "'''This function takes in a \"dataframe\" and a \"column_name\" in which it has to replace\n",
    "values. It takes an \"original\" value and replaces it by the value of the \"replacement\".'''\n",
    "\n",
    "def replace_column_values(dataframe, column_name, original, replacement):\n",
    "    dataframe.replace({column_name:{original : replacement}}, inplace = True)"
   ]
  },
  {
   "cell_type": "code",
   "execution_count": 11,
   "metadata": {
    "collapsed": true
   },
   "outputs": [],
   "source": [
    "# invoking replace_column_values to replace values \n",
    "# replacing rank. Beginner - 1, intermediate - 2, advanced -3, expert - 4\n",
    "\n",
    "replace_column_values(train_df,\"rank\",'beginner',1)\n",
    "replace_column_values(train_df,\"rank\",'intermediate',2)\n",
    "replace_column_values(train_df,\"rank\",'advanced',3)\n",
    "replace_column_values(train_df,\"rank\",'expert',4)"
   ]
  },
  {
   "cell_type": "code",
   "execution_count": 12,
   "metadata": {},
   "outputs": [
    {
     "data": {
      "text/html": [
       "<div>\n",
       "<style>\n",
       "    .dataframe thead tr:only-child th {\n",
       "        text-align: right;\n",
       "    }\n",
       "\n",
       "    .dataframe thead th {\n",
       "        text-align: left;\n",
       "    }\n",
       "\n",
       "    .dataframe tbody tr th {\n",
       "        vertical-align: top;\n",
       "    }\n",
       "</style>\n",
       "<table border=\"1\" class=\"dataframe\">\n",
       "  <thead>\n",
       "    <tr style=\"text-align: right;\">\n",
       "      <th></th>\n",
       "      <th>user_id</th>\n",
       "      <th>problem_id</th>\n",
       "      <th>attempts_range</th>\n",
       "      <th>submission_count</th>\n",
       "      <th>problem_solved</th>\n",
       "      <th>contribution</th>\n",
       "      <th>country</th>\n",
       "      <th>follower_count</th>\n",
       "      <th>last_online_time_seconds</th>\n",
       "      <th>max_rating</th>\n",
       "      <th>rating</th>\n",
       "      <th>rank</th>\n",
       "      <th>registration_time_seconds</th>\n",
       "      <th>level_type</th>\n",
       "      <th>points</th>\n",
       "      <th>tags</th>\n",
       "    </tr>\n",
       "  </thead>\n",
       "  <tbody>\n",
       "    <tr>\n",
       "      <th>0</th>\n",
       "      <td>user_232</td>\n",
       "      <td>prob_6507</td>\n",
       "      <td>1.0</td>\n",
       "      <td>53.0</td>\n",
       "      <td>47.0</td>\n",
       "      <td>0.0</td>\n",
       "      <td>Bangladesh</td>\n",
       "      <td>1.0</td>\n",
       "      <td>1.503634e+09</td>\n",
       "      <td>307.913</td>\n",
       "      <td>206.709</td>\n",
       "      <td>1</td>\n",
       "      <td>1.432111e+09</td>\n",
       "      <td>B</td>\n",
       "      <td>1000.0</td>\n",
       "      <td>strings</td>\n",
       "    </tr>\n",
       "    <tr>\n",
       "      <th>1</th>\n",
       "      <td>user_1910</td>\n",
       "      <td>prob_6507</td>\n",
       "      <td>2.0</td>\n",
       "      <td>240.0</td>\n",
       "      <td>218.0</td>\n",
       "      <td>0.0</td>\n",
       "      <td>Bangladesh</td>\n",
       "      <td>50.0</td>\n",
       "      <td>1.505253e+09</td>\n",
       "      <td>319.954</td>\n",
       "      <td>291.284</td>\n",
       "      <td>1</td>\n",
       "      <td>1.385471e+09</td>\n",
       "      <td>B</td>\n",
       "      <td>1000.0</td>\n",
       "      <td>strings</td>\n",
       "    </tr>\n",
       "    <tr>\n",
       "      <th>2</th>\n",
       "      <td>user_1824</td>\n",
       "      <td>prob_6507</td>\n",
       "      <td>2.0</td>\n",
       "      <td>370.0</td>\n",
       "      <td>336.0</td>\n",
       "      <td>-10.0</td>\n",
       "      <td>India</td>\n",
       "      <td>30.0</td>\n",
       "      <td>1.505396e+09</td>\n",
       "      <td>307.339</td>\n",
       "      <td>295.585</td>\n",
       "      <td>1</td>\n",
       "      <td>1.471685e+09</td>\n",
       "      <td>B</td>\n",
       "      <td>1000.0</td>\n",
       "      <td>strings</td>\n",
       "    </tr>\n",
       "    <tr>\n",
       "      <th>3</th>\n",
       "      <td>user_895</td>\n",
       "      <td>prob_6507</td>\n",
       "      <td>1.0</td>\n",
       "      <td>318.0</td>\n",
       "      <td>286.0</td>\n",
       "      <td>0.0</td>\n",
       "      <td>Egypt</td>\n",
       "      <td>20.0</td>\n",
       "      <td>1.505511e+09</td>\n",
       "      <td>304.186</td>\n",
       "      <td>191.514</td>\n",
       "      <td>1</td>\n",
       "      <td>1.475530e+09</td>\n",
       "      <td>B</td>\n",
       "      <td>1000.0</td>\n",
       "      <td>strings</td>\n",
       "    </tr>\n",
       "    <tr>\n",
       "      <th>4</th>\n",
       "      <td>user_779</td>\n",
       "      <td>prob_6507</td>\n",
       "      <td>1.0</td>\n",
       "      <td>463.0</td>\n",
       "      <td>410.0</td>\n",
       "      <td>0.0</td>\n",
       "      <td>India</td>\n",
       "      <td>39.0</td>\n",
       "      <td>1.504799e+09</td>\n",
       "      <td>374.713</td>\n",
       "      <td>374.713</td>\n",
       "      <td>2</td>\n",
       "      <td>1.437246e+09</td>\n",
       "      <td>B</td>\n",
       "      <td>1000.0</td>\n",
       "      <td>strings</td>\n",
       "    </tr>\n",
       "  </tbody>\n",
       "</table>\n",
       "</div>"
      ],
      "text/plain": [
       "     user_id problem_id  attempts_range  submission_count  problem_solved  \\\n",
       "0   user_232  prob_6507             1.0              53.0            47.0   \n",
       "1  user_1910  prob_6507             2.0             240.0           218.0   \n",
       "2  user_1824  prob_6507             2.0             370.0           336.0   \n",
       "3   user_895  prob_6507             1.0             318.0           286.0   \n",
       "4   user_779  prob_6507             1.0             463.0           410.0   \n",
       "\n",
       "   contribution     country  follower_count  last_online_time_seconds  \\\n",
       "0           0.0  Bangladesh             1.0              1.503634e+09   \n",
       "1           0.0  Bangladesh            50.0              1.505253e+09   \n",
       "2         -10.0       India            30.0              1.505396e+09   \n",
       "3           0.0       Egypt            20.0              1.505511e+09   \n",
       "4           0.0       India            39.0              1.504799e+09   \n",
       "\n",
       "   max_rating   rating  rank  registration_time_seconds level_type  points  \\\n",
       "0     307.913  206.709     1               1.432111e+09          B  1000.0   \n",
       "1     319.954  291.284     1               1.385471e+09          B  1000.0   \n",
       "2     307.339  295.585     1               1.471685e+09          B  1000.0   \n",
       "3     304.186  191.514     1               1.475530e+09          B  1000.0   \n",
       "4     374.713  374.713     2               1.437246e+09          B  1000.0   \n",
       "\n",
       "      tags  \n",
       "0  strings  \n",
       "1  strings  \n",
       "2  strings  \n",
       "3  strings  \n",
       "4  strings  "
      ]
     },
     "execution_count": 12,
     "metadata": {},
     "output_type": "execute_result"
    }
   ],
   "source": [
    "# replacing rank. Beginner - 1, intermediate - 2, advanced -3, expert - 4\n",
    "\n",
    "replace_column_values(train_df,\"rank\",'beginner',1)\n",
    "replace_column_values(train_df,\"rank\",'intermediate',2)\n",
    "replace_column_values(train_df,\"rank\",'advanced',3)\n",
    "replace_column_values(train_df,\"rank\",'expert',4)"
   ]
  },
  {
   "cell_type": "code",
   "execution_count": 16,
   "metadata": {
    "collapsed": true
   },
   "outputs": [],
   "source": [
    "# replacing level_type. A-1,  B-2, ... N - \n",
    "\n",
    "alpha = [chr(ch) for ch in range(65,79)]\n",
    "\n",
    "for i,ch in enumerate(alpha):\n",
    "    replace_column_values(train_df,'level_type',ch,i+1)"
   ]
  },
  {
   "cell_type": "code",
   "execution_count": 23,
   "metadata": {
    "collapsed": true
   },
   "outputs": [],
   "source": [
    "# removing tags\n",
    "\n",
    "del train_df['tags']"
   ]
  },
  {
   "cell_type": "code",
   "execution_count": 7,
   "metadata": {
    "collapsed": true
   },
   "outputs": [],
   "source": [
    "# replacing countries column with numerical values\n",
    "\n",
    "country_array = train_df['country'].unique()\n",
    "\n",
    "for i,ch in enumerate(country_array):\n",
    "    replace_column_values(train_df,'country',ch,i+1)"
   ]
  },
  {
   "cell_type": "code",
   "execution_count": 13,
   "metadata": {},
   "outputs": [
    {
     "data": {
      "text/plain": [
       "'Egypt'"
      ]
     },
     "execution_count": 13,
     "metadata": {},
     "output_type": "execute_result"
    }
   ],
   "source": [
    "country_array[2]"
   ]
  },
  {
   "cell_type": "code",
   "execution_count": 35,
   "metadata": {},
   "outputs": [
    {
     "name": "stdout",
     "output_type": "stream",
     "text": [
      "<class 'pandas.core.frame.DataFrame'>\n",
      "RangeIndex: 155295 entries, 0 to 155294\n",
      "Data columns (total 15 columns):\n",
      "user_id                      155295 non-null object\n",
      "problem_id                   155295 non-null object\n",
      "attempts_range               155295 non-null float64\n",
      "submission_count             155295 non-null float64\n",
      "problem_solved               155295 non-null float64\n",
      "contribution                 155295 non-null float64\n",
      "country                      155295 non-null int64\n",
      "follower_count               155295 non-null float64\n",
      "last_online_time_seconds     155295 non-null float64\n",
      "max_rating                   155295 non-null float64\n",
      "rating                       155295 non-null float64\n",
      "rank                         155295 non-null int64\n",
      "registration_time_seconds    155295 non-null float64\n",
      "level_type                   154675 non-null float64\n",
      "points                       126220 non-null float64\n",
      "dtypes: float64(11), int64(2), object(2)\n",
      "memory usage: 17.8+ MB\n"
     ]
    }
   ],
   "source": [
    "train_df.info()\n"
   ]
  },
  {
   "cell_type": "code",
   "execution_count": 39,
   "metadata": {
    "collapsed": true
   },
   "outputs": [],
   "source": [
    "train_df.to_csv('merged_and_categorical.csv')"
   ]
  },
  {
   "cell_type": "code",
   "execution_count": null,
   "metadata": {
    "collapsed": true
   },
   "outputs": [],
   "source": []
  }
 ],
 "metadata": {
  "kernelspec": {
   "display_name": "Python 3",
   "language": "python",
   "name": "python3"
  },
  "language_info": {
   "codemirror_mode": {
    "name": "ipython",
    "version": 3
   },
   "file_extension": ".py",
   "mimetype": "text/x-python",
   "name": "python",
   "nbconvert_exporter": "python",
   "pygments_lexer": "ipython3",
   "version": "3.6.1"
  }
 },
 "nbformat": 4,
 "nbformat_minor": 2
}
