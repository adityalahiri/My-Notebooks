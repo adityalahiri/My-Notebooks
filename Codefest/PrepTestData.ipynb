{
 "cells": [
  {
   "cell_type": "code",
   "execution_count": 1,
   "metadata": {},
   "outputs": [
    {
     "data": {
      "text/plain": [
       "'Aim to set up test data in the exact same format as final categorical merged train\\ndataset'"
      ]
     },
     "execution_count": 1,
     "metadata": {},
     "output_type": "execute_result"
    }
   ],
   "source": [
    "'''Aim to set up test data in the exact same format as final categorical merged train\n",
    "dataset'''"
   ]
  },
  {
   "cell_type": "code",
   "execution_count": 5,
   "metadata": {
    "collapsed": true
   },
   "outputs": [],
   "source": [
    "# Importing modules\n",
    "\n",
    "import pandas as pd # for data wrangling\n",
    "import seaborn as sns # for plotting\n",
    "import matplotlib.pyplot as plt # for plotting\n",
    "import missingno as msno # for visualizing missing values in data\n",
    "import numpy as np # for array computations\n",
    "\n",
    "plt.style.use('ggplot') # setting style for matplotlib"
   ]
  },
  {
   "cell_type": "code",
   "execution_count": 15,
   "metadata": {
    "collapsed": true
   },
   "outputs": [],
   "source": [
    "# importing model specific libraries\n",
    "\n",
    "from sklearn.ensemble import RandomForestClassifier\n",
    "from sklearn.metrics import f1_score\n",
    "from sklearn.model_selection import train_test_split\n",
    "from sklearn import metrics\n",
    "from sklearn.model_selection import cross_val_score\n",
    "\n"
   ]
  },
  {
   "cell_type": "code",
   "execution_count": 3,
   "metadata": {},
   "outputs": [
    {
     "name": "stdout",
     "output_type": "stream",
     "text": [
      "ChangingCategoricals.ipynb  RunModel.csv.ipynb              \u001b[0m\u001b[01;34mtrain\u001b[0m/\r\n",
      "FirstLook.ipynb             sample_submissions_wbscxqU.csv  \u001b[01;31mtrain_ps0mmDv.zip\u001b[0m\r\n",
      "PrepTestData.ipynb          test_submissions_NeDLEvX.csv\r\n"
     ]
    }
   ],
   "source": [
    "ls"
   ]
  },
  {
   "cell_type": "code",
   "execution_count": 4,
   "metadata": {
    "collapsed": true
   },
   "outputs": [],
   "source": [
    "# reading raw test data\n",
    "\n",
    "test_raw = pd.read_csv(\"test_submissions_NeDLEvX.csv\")"
   ]
  },
  {
   "cell_type": "code",
   "execution_count": 5,
   "metadata": {},
   "outputs": [
    {
     "data": {
      "text/html": [
       "<div>\n",
       "<style>\n",
       "    .dataframe thead tr:only-child th {\n",
       "        text-align: right;\n",
       "    }\n",
       "\n",
       "    .dataframe thead th {\n",
       "        text-align: left;\n",
       "    }\n",
       "\n",
       "    .dataframe tbody tr th {\n",
       "        vertical-align: top;\n",
       "    }\n",
       "</style>\n",
       "<table border=\"1\" class=\"dataframe\">\n",
       "  <thead>\n",
       "    <tr style=\"text-align: right;\">\n",
       "      <th></th>\n",
       "      <th>ID</th>\n",
       "      <th>user_id</th>\n",
       "      <th>problem_id</th>\n",
       "    </tr>\n",
       "  </thead>\n",
       "  <tbody>\n",
       "    <tr>\n",
       "      <th>0</th>\n",
       "      <td>user_856_prob_5822</td>\n",
       "      <td>user_856</td>\n",
       "      <td>prob_5822</td>\n",
       "    </tr>\n",
       "    <tr>\n",
       "      <th>1</th>\n",
       "      <td>user_2642_prob_2334</td>\n",
       "      <td>user_2642</td>\n",
       "      <td>prob_2334</td>\n",
       "    </tr>\n",
       "    <tr>\n",
       "      <th>2</th>\n",
       "      <td>user_2557_prob_2920</td>\n",
       "      <td>user_2557</td>\n",
       "      <td>prob_2920</td>\n",
       "    </tr>\n",
       "    <tr>\n",
       "      <th>3</th>\n",
       "      <td>user_1572_prob_4598</td>\n",
       "      <td>user_1572</td>\n",
       "      <td>prob_4598</td>\n",
       "    </tr>\n",
       "    <tr>\n",
       "      <th>4</th>\n",
       "      <td>user_295_prob_6139</td>\n",
       "      <td>user_295</td>\n",
       "      <td>prob_6139</td>\n",
       "    </tr>\n",
       "  </tbody>\n",
       "</table>\n",
       "</div>"
      ],
      "text/plain": [
       "                    ID    user_id problem_id\n",
       "0   user_856_prob_5822   user_856  prob_5822\n",
       "1  user_2642_prob_2334  user_2642  prob_2334\n",
       "2  user_2557_prob_2920  user_2557  prob_2920\n",
       "3  user_1572_prob_4598  user_1572  prob_4598\n",
       "4   user_295_prob_6139   user_295  prob_6139"
      ]
     },
     "execution_count": 5,
     "metadata": {},
     "output_type": "execute_result"
    }
   ],
   "source": [
    "test_raw.head()"
   ]
  },
  {
   "cell_type": "code",
   "execution_count": 6,
   "metadata": {},
   "outputs": [
    {
     "name": "stdout",
     "output_type": "stream",
     "text": [
      "/home/arrayslayer/ML Competitions/Codefest/train\n"
     ]
    }
   ],
   "source": [
    "cd train"
   ]
  },
  {
   "cell_type": "code",
   "execution_count": 7,
   "metadata": {},
   "outputs": [
    {
     "name": "stdout",
     "output_type": "stream",
     "text": [
      "merged_and_categorical.csv  problem_data.csv       user_data.csv\r\n",
      "merged_dataset.csv          train_submissions.csv\r\n"
     ]
    }
   ],
   "source": [
    "ls"
   ]
  },
  {
   "cell_type": "code",
   "execution_count": 8,
   "metadata": {
    "collapsed": true
   },
   "outputs": [],
   "source": [
    "# importing user properties from training data that had user details\n",
    "user_data = pd.read_csv('user_data.csv')\n",
    "problem_data = pd.read_csv(\"problem_data.csv\")\n",
    "train_df = pd.read_csv(\"merged_dataset.csv\")"
   ]
  },
  {
   "cell_type": "code",
   "execution_count": 9,
   "metadata": {
    "collapsed": true
   },
   "outputs": [],
   "source": [
    "# attempting to merge user_df on basis of user_id into test_raw which results in test_user_merge\n",
    "\n",
    "test_user_merge = pd.merge(test_raw, user_data, on='user_id', how='outer')"
   ]
  },
  {
   "cell_type": "code",
   "execution_count": 10,
   "metadata": {
    "collapsed": true
   },
   "outputs": [],
   "source": [
    "# attempting to merge test_user_merge with problem_data on basis of prolem_id to result\n",
    "# in test_both_merged\n",
    "\n",
    "test_both_merged = pd.merge(test_user_merge, problem_data, on='problem_id', how='outer')"
   ]
  },
  {
   "cell_type": "code",
   "execution_count": 11,
   "metadata": {},
   "outputs": [
    {
     "data": {
      "text/html": [
       "<div>\n",
       "<style>\n",
       "    .dataframe thead tr:only-child th {\n",
       "        text-align: right;\n",
       "    }\n",
       "\n",
       "    .dataframe thead th {\n",
       "        text-align: left;\n",
       "    }\n",
       "\n",
       "    .dataframe tbody tr th {\n",
       "        vertical-align: top;\n",
       "    }\n",
       "</style>\n",
       "<table border=\"1\" class=\"dataframe\">\n",
       "  <thead>\n",
       "    <tr style=\"text-align: right;\">\n",
       "      <th></th>\n",
       "      <th>ID</th>\n",
       "      <th>user_id</th>\n",
       "      <th>problem_id</th>\n",
       "      <th>submission_count</th>\n",
       "      <th>problem_solved</th>\n",
       "      <th>contribution</th>\n",
       "      <th>country</th>\n",
       "      <th>follower_count</th>\n",
       "      <th>last_online_time_seconds</th>\n",
       "      <th>max_rating</th>\n",
       "      <th>rating</th>\n",
       "      <th>rank</th>\n",
       "      <th>registration_time_seconds</th>\n",
       "      <th>level_type</th>\n",
       "      <th>points</th>\n",
       "      <th>tags</th>\n",
       "    </tr>\n",
       "  </thead>\n",
       "  <tbody>\n",
       "    <tr>\n",
       "      <th>0</th>\n",
       "      <td>user_856_prob_5822</td>\n",
       "      <td>user_856</td>\n",
       "      <td>prob_5822</td>\n",
       "      <td>274.0</td>\n",
       "      <td>231.0</td>\n",
       "      <td>0.0</td>\n",
       "      <td>India</td>\n",
       "      <td>35.0</td>\n",
       "      <td>1.503234e+09</td>\n",
       "      <td>393.062</td>\n",
       "      <td>362.959</td>\n",
       "      <td>intermediate</td>\n",
       "      <td>1.422163e+09</td>\n",
       "      <td>L</td>\n",
       "      <td>NaN</td>\n",
       "      <td>NaN</td>\n",
       "    </tr>\n",
       "    <tr>\n",
       "      <th>1</th>\n",
       "      <td>user_846_prob_5822</td>\n",
       "      <td>user_846</td>\n",
       "      <td>prob_5822</td>\n",
       "      <td>587.0</td>\n",
       "      <td>547.0</td>\n",
       "      <td>2.0</td>\n",
       "      <td>Brazil</td>\n",
       "      <td>47.0</td>\n",
       "      <td>1.505018e+09</td>\n",
       "      <td>423.739</td>\n",
       "      <td>423.739</td>\n",
       "      <td>intermediate</td>\n",
       "      <td>1.434644e+09</td>\n",
       "      <td>L</td>\n",
       "      <td>NaN</td>\n",
       "      <td>NaN</td>\n",
       "    </tr>\n",
       "    <tr>\n",
       "      <th>2</th>\n",
       "      <td>user_2183_prob_5822</td>\n",
       "      <td>user_2183</td>\n",
       "      <td>prob_5822</td>\n",
       "      <td>242.0</td>\n",
       "      <td>231.0</td>\n",
       "      <td>0.0</td>\n",
       "      <td>Bolivia</td>\n",
       "      <td>21.0</td>\n",
       "      <td>1.505575e+09</td>\n",
       "      <td>334.862</td>\n",
       "      <td>300.745</td>\n",
       "      <td>beginner</td>\n",
       "      <td>1.463786e+09</td>\n",
       "      <td>L</td>\n",
       "      <td>NaN</td>\n",
       "      <td>NaN</td>\n",
       "    </tr>\n",
       "    <tr>\n",
       "      <th>3</th>\n",
       "      <td>user_2553_prob_5822</td>\n",
       "      <td>user_2553</td>\n",
       "      <td>prob_5822</td>\n",
       "      <td>1558.0</td>\n",
       "      <td>1436.0</td>\n",
       "      <td>1.0</td>\n",
       "      <td>Egypt</td>\n",
       "      <td>186.0</td>\n",
       "      <td>1.505553e+09</td>\n",
       "      <td>459.862</td>\n",
       "      <td>455.849</td>\n",
       "      <td>advanced</td>\n",
       "      <td>1.414068e+09</td>\n",
       "      <td>L</td>\n",
       "      <td>NaN</td>\n",
       "      <td>NaN</td>\n",
       "    </tr>\n",
       "    <tr>\n",
       "      <th>4</th>\n",
       "      <td>user_856_prob_1868</td>\n",
       "      <td>user_856</td>\n",
       "      <td>prob_1868</td>\n",
       "      <td>274.0</td>\n",
       "      <td>231.0</td>\n",
       "      <td>0.0</td>\n",
       "      <td>India</td>\n",
       "      <td>35.0</td>\n",
       "      <td>1.503234e+09</td>\n",
       "      <td>393.062</td>\n",
       "      <td>362.959</td>\n",
       "      <td>intermediate</td>\n",
       "      <td>1.422163e+09</td>\n",
       "      <td>A</td>\n",
       "      <td>500.0</td>\n",
       "      <td>implementation,strings</td>\n",
       "    </tr>\n",
       "  </tbody>\n",
       "</table>\n",
       "</div>"
      ],
      "text/plain": [
       "                    ID    user_id problem_id  submission_count  \\\n",
       "0   user_856_prob_5822   user_856  prob_5822             274.0   \n",
       "1   user_846_prob_5822   user_846  prob_5822             587.0   \n",
       "2  user_2183_prob_5822  user_2183  prob_5822             242.0   \n",
       "3  user_2553_prob_5822  user_2553  prob_5822            1558.0   \n",
       "4   user_856_prob_1868   user_856  prob_1868             274.0   \n",
       "\n",
       "   problem_solved  contribution  country  follower_count  \\\n",
       "0           231.0           0.0    India            35.0   \n",
       "1           547.0           2.0   Brazil            47.0   \n",
       "2           231.0           0.0  Bolivia            21.0   \n",
       "3          1436.0           1.0    Egypt           186.0   \n",
       "4           231.0           0.0    India            35.0   \n",
       "\n",
       "   last_online_time_seconds  max_rating   rating          rank  \\\n",
       "0              1.503234e+09     393.062  362.959  intermediate   \n",
       "1              1.505018e+09     423.739  423.739  intermediate   \n",
       "2              1.505575e+09     334.862  300.745      beginner   \n",
       "3              1.505553e+09     459.862  455.849      advanced   \n",
       "4              1.503234e+09     393.062  362.959  intermediate   \n",
       "\n",
       "   registration_time_seconds level_type  points                    tags  \n",
       "0               1.422163e+09          L     NaN                     NaN  \n",
       "1               1.434644e+09          L     NaN                     NaN  \n",
       "2               1.463786e+09          L     NaN                     NaN  \n",
       "3               1.414068e+09          L     NaN                     NaN  \n",
       "4               1.422163e+09          A   500.0  implementation,strings  "
      ]
     },
     "execution_count": 11,
     "metadata": {},
     "output_type": "execute_result"
    }
   ],
   "source": [
    "test_both_merged.head()"
   ]
  },
  {
   "cell_type": "code",
   "execution_count": 12,
   "metadata": {},
   "outputs": [
    {
     "data": {
      "text/plain": [
       "'note lots of missing values might be there. Check how to deal with missing values.\\nFill with some def value because dropping them would result in not predicting\\nfor them?'"
      ]
     },
     "execution_count": 12,
     "metadata": {},
     "output_type": "execute_result"
    }
   ],
   "source": [
    "'''note lots of missing values might be there. Check how to deal with missing values.\n",
    "Fill with some def value because dropping them would result in not predicting\n",
    "for them?'''"
   ]
  },
  {
   "cell_type": "code",
   "execution_count": 13,
   "metadata": {
    "collapsed": true
   },
   "outputs": [],
   "source": [
    "# beginning with converting strings to numerical categorical variables"
   ]
  },
  {
   "cell_type": "code",
   "execution_count": 14,
   "metadata": {
    "collapsed": true
   },
   "outputs": [],
   "source": [
    "'''This function takes in a \"dataframe\" and a \"column_name\" in which it has to replace\n",
    "values. It takes an \"original\" value and replaces it by the value of the \"replacement\".'''\n",
    "\n",
    "def replace_column_values(dataframe, column_name, original, replacement):\n",
    "    dataframe.replace({column_name:{original : replacement}}, inplace = True)"
   ]
  },
  {
   "cell_type": "code",
   "execution_count": 15,
   "metadata": {
    "collapsed": true
   },
   "outputs": [],
   "source": [
    "# invoking replace_column_values to replace values \n",
    "# replacing rank. Beginner - 1, intermediate - 2, advanced -3, expert - 4\n",
    "\n",
    "replace_column_values(test_both_merged,\"rank\",'beginner',1)\n",
    "replace_column_values(test_both_merged,\"rank\",'intermediate',2)\n",
    "replace_column_values(test_both_merged,\"rank\",'advanced',3)\n",
    "replace_column_values(test_both_merged,\"rank\",'expert',4)"
   ]
  },
  {
   "cell_type": "code",
   "execution_count": 16,
   "metadata": {
    "collapsed": true
   },
   "outputs": [],
   "source": [
    "# replacing level_type. A-1,  B-2, ... N - \n",
    "\n",
    "alpha = [chr(ch) for ch in range(65,79)]\n",
    "\n",
    "for i,ch in enumerate(alpha):\n",
    "    replace_column_values(test_both_merged,'level_type',ch,i+1)"
   ]
  },
  {
   "cell_type": "code",
   "execution_count": 17,
   "metadata": {
    "collapsed": true
   },
   "outputs": [],
   "source": [
    "# removing tags\n",
    "\n",
    "del test_both_merged['tags']"
   ]
  },
  {
   "cell_type": "code",
   "execution_count": 18,
   "metadata": {
    "collapsed": true
   },
   "outputs": [],
   "source": [
    "# Should be mapped as same as train data because I used the same train_df with \"merged_dataset.csv\"\n",
    "# to get unique country values\n",
    "# CAREFUL! CHECK IF MAPPED CORRECTLY!\n",
    "# replacing countries column with numerical values\n",
    "\n",
    "country_array = train_df['country'].unique()\n",
    "\n",
    "for i,ch in enumerate(country_array):\n",
    "    replace_column_values(test_both_merged,'country',ch,i+1)"
   ]
  },
  {
   "cell_type": "code",
   "execution_count": 20,
   "metadata": {},
   "outputs": [
    {
     "name": "stdout",
     "output_type": "stream",
     "text": [
      "<class 'pandas.core.frame.DataFrame'>\n",
      "Int64Index: 68453 entries, 0 to 68452\n",
      "Data columns (total 15 columns):\n",
      "ID                           66555 non-null object\n",
      "user_id                      66625 non-null object\n",
      "problem_id                   68383 non-null object\n",
      "submission_count             66625 non-null float64\n",
      "problem_solved               66625 non-null float64\n",
      "contribution                 66625 non-null float64\n",
      "country                      68453 non-null int64\n",
      "follower_count               66625 non-null float64\n",
      "last_online_time_seconds     66625 non-null float64\n",
      "max_rating                   66625 non-null float64\n",
      "rating                       66625 non-null float64\n",
      "rank                         66625 non-null float64\n",
      "registration_time_seconds    66625 non-null float64\n",
      "level_type                   68049 non-null float64\n",
      "points                       54456 non-null float64\n",
      "dtypes: float64(11), int64(1), object(3)\n",
      "memory usage: 8.4+ MB\n"
     ]
    }
   ],
   "source": [
    "# sparse points column. How to handle its missing values?\n",
    "\n",
    "test_both_merged.info()"
   ]
  },
  {
   "cell_type": "code",
   "execution_count": null,
   "metadata": {
    "collapsed": true
   },
   "outputs": [],
   "source": [
    "'''Total data is 66555. Some have user_id missing some problem_id missing and \n",
    "we take them too, leading to extra data. Deal with it.'''"
   ]
  },
  {
   "cell_type": "code",
   "execution_count": 23,
   "metadata": {
    "collapsed": true
   },
   "outputs": [],
   "source": [
    "# saving final merged test dataset that is built on similar grounds as the final \n",
    "# training dataset\n",
    "\n",
    "test_both_merged.to_csv(\"test_merged.csv\")"
   ]
  },
  {
   "cell_type": "code",
   "execution_count": 24,
   "metadata": {},
   "outputs": [
    {
     "data": {
      "text/html": [
       "<div>\n",
       "<style>\n",
       "    .dataframe thead tr:only-child th {\n",
       "        text-align: right;\n",
       "    }\n",
       "\n",
       "    .dataframe thead th {\n",
       "        text-align: left;\n",
       "    }\n",
       "\n",
       "    .dataframe tbody tr th {\n",
       "        vertical-align: top;\n",
       "    }\n",
       "</style>\n",
       "<table border=\"1\" class=\"dataframe\">\n",
       "  <thead>\n",
       "    <tr style=\"text-align: right;\">\n",
       "      <th></th>\n",
       "      <th>ID</th>\n",
       "      <th>user_id</th>\n",
       "      <th>problem_id</th>\n",
       "      <th>submission_count</th>\n",
       "      <th>problem_solved</th>\n",
       "      <th>contribution</th>\n",
       "      <th>country</th>\n",
       "      <th>follower_count</th>\n",
       "      <th>last_online_time_seconds</th>\n",
       "      <th>max_rating</th>\n",
       "      <th>rating</th>\n",
       "      <th>rank</th>\n",
       "      <th>registration_time_seconds</th>\n",
       "      <th>level_type</th>\n",
       "      <th>points</th>\n",
       "    </tr>\n",
       "  </thead>\n",
       "  <tbody>\n",
       "    <tr>\n",
       "      <th>0</th>\n",
       "      <td>user_856_prob_5822</td>\n",
       "      <td>user_856</td>\n",
       "      <td>prob_5822</td>\n",
       "      <td>274.0</td>\n",
       "      <td>231.0</td>\n",
       "      <td>0.0</td>\n",
       "      <td>2</td>\n",
       "      <td>35.0</td>\n",
       "      <td>1.503234e+09</td>\n",
       "      <td>393.062</td>\n",
       "      <td>362.959</td>\n",
       "      <td>2.0</td>\n",
       "      <td>1.422163e+09</td>\n",
       "      <td>12.0</td>\n",
       "      <td>NaN</td>\n",
       "    </tr>\n",
       "    <tr>\n",
       "      <th>1</th>\n",
       "      <td>user_846_prob_5822</td>\n",
       "      <td>user_846</td>\n",
       "      <td>prob_5822</td>\n",
       "      <td>587.0</td>\n",
       "      <td>547.0</td>\n",
       "      <td>2.0</td>\n",
       "      <td>27</td>\n",
       "      <td>47.0</td>\n",
       "      <td>1.505018e+09</td>\n",
       "      <td>423.739</td>\n",
       "      <td>423.739</td>\n",
       "      <td>2.0</td>\n",
       "      <td>1.434644e+09</td>\n",
       "      <td>12.0</td>\n",
       "      <td>NaN</td>\n",
       "    </tr>\n",
       "    <tr>\n",
       "      <th>2</th>\n",
       "      <td>user_2183_prob_5822</td>\n",
       "      <td>user_2183</td>\n",
       "      <td>prob_5822</td>\n",
       "      <td>242.0</td>\n",
       "      <td>231.0</td>\n",
       "      <td>0.0</td>\n",
       "      <td>40</td>\n",
       "      <td>21.0</td>\n",
       "      <td>1.505575e+09</td>\n",
       "      <td>334.862</td>\n",
       "      <td>300.745</td>\n",
       "      <td>1.0</td>\n",
       "      <td>1.463786e+09</td>\n",
       "      <td>12.0</td>\n",
       "      <td>NaN</td>\n",
       "    </tr>\n",
       "    <tr>\n",
       "      <th>3</th>\n",
       "      <td>user_2553_prob_5822</td>\n",
       "      <td>user_2553</td>\n",
       "      <td>prob_5822</td>\n",
       "      <td>1558.0</td>\n",
       "      <td>1436.0</td>\n",
       "      <td>1.0</td>\n",
       "      <td>3</td>\n",
       "      <td>186.0</td>\n",
       "      <td>1.505553e+09</td>\n",
       "      <td>459.862</td>\n",
       "      <td>455.849</td>\n",
       "      <td>3.0</td>\n",
       "      <td>1.414068e+09</td>\n",
       "      <td>12.0</td>\n",
       "      <td>NaN</td>\n",
       "    </tr>\n",
       "    <tr>\n",
       "      <th>4</th>\n",
       "      <td>user_856_prob_1868</td>\n",
       "      <td>user_856</td>\n",
       "      <td>prob_1868</td>\n",
       "      <td>274.0</td>\n",
       "      <td>231.0</td>\n",
       "      <td>0.0</td>\n",
       "      <td>2</td>\n",
       "      <td>35.0</td>\n",
       "      <td>1.503234e+09</td>\n",
       "      <td>393.062</td>\n",
       "      <td>362.959</td>\n",
       "      <td>2.0</td>\n",
       "      <td>1.422163e+09</td>\n",
       "      <td>1.0</td>\n",
       "      <td>500.0</td>\n",
       "    </tr>\n",
       "  </tbody>\n",
       "</table>\n",
       "</div>"
      ],
      "text/plain": [
       "                    ID    user_id problem_id  submission_count  \\\n",
       "0   user_856_prob_5822   user_856  prob_5822             274.0   \n",
       "1   user_846_prob_5822   user_846  prob_5822             587.0   \n",
       "2  user_2183_prob_5822  user_2183  prob_5822             242.0   \n",
       "3  user_2553_prob_5822  user_2553  prob_5822            1558.0   \n",
       "4   user_856_prob_1868   user_856  prob_1868             274.0   \n",
       "\n",
       "   problem_solved  contribution  country  follower_count  \\\n",
       "0           231.0           0.0        2            35.0   \n",
       "1           547.0           2.0       27            47.0   \n",
       "2           231.0           0.0       40            21.0   \n",
       "3          1436.0           1.0        3           186.0   \n",
       "4           231.0           0.0        2            35.0   \n",
       "\n",
       "   last_online_time_seconds  max_rating   rating  rank  \\\n",
       "0              1.503234e+09     393.062  362.959   2.0   \n",
       "1              1.505018e+09     423.739  423.739   2.0   \n",
       "2              1.505575e+09     334.862  300.745   1.0   \n",
       "3              1.505553e+09     459.862  455.849   3.0   \n",
       "4              1.503234e+09     393.062  362.959   2.0   \n",
       "\n",
       "   registration_time_seconds  level_type  points  \n",
       "0               1.422163e+09        12.0     NaN  \n",
       "1               1.434644e+09        12.0     NaN  \n",
       "2               1.463786e+09        12.0     NaN  \n",
       "3               1.414068e+09        12.0     NaN  \n",
       "4               1.422163e+09         1.0   500.0  "
      ]
     },
     "execution_count": 24,
     "metadata": {},
     "output_type": "execute_result"
    }
   ],
   "source": [
    "test_both_merged.head()"
   ]
  },
  {
   "cell_type": "code",
   "execution_count": 28,
   "metadata": {
    "collapsed": true
   },
   "outputs": [],
   "source": [
    "test_both_merged['user_id'].dropna(inplace = True)\n",
    "test_both_merged['problem_id'].dropna(inplace = True)"
   ]
  },
  {
   "cell_type": "code",
   "execution_count": 29,
   "metadata": {},
   "outputs": [
    {
     "name": "stdout",
     "output_type": "stream",
     "text": [
      "<class 'pandas.core.frame.DataFrame'>\n",
      "Int64Index: 68453 entries, 0 to 68452\n",
      "Data columns (total 15 columns):\n",
      "ID                           66555 non-null object\n",
      "user_id                      66625 non-null object\n",
      "problem_id                   68383 non-null object\n",
      "submission_count             66625 non-null float64\n",
      "problem_solved               66625 non-null float64\n",
      "contribution                 66625 non-null float64\n",
      "country                      68453 non-null int64\n",
      "follower_count               66625 non-null float64\n",
      "last_online_time_seconds     66625 non-null float64\n",
      "max_rating                   66625 non-null float64\n",
      "rating                       66625 non-null float64\n",
      "rank                         66625 non-null float64\n",
      "registration_time_seconds    66625 non-null float64\n",
      "level_type                   68049 non-null float64\n",
      "points                       54456 non-null float64\n",
      "dtypes: float64(11), int64(1), object(3)\n",
      "memory usage: 8.3+ MB\n"
     ]
    }
   ],
   "source": [
    "test_both_merged.info()"
   ]
  },
  {
   "cell_type": "code",
   "execution_count": null,
   "metadata": {
    "collapsed": true
   },
   "outputs": [],
   "source": []
  },
  {
   "cell_type": "code",
   "execution_count": 3,
   "metadata": {},
   "outputs": [
    {
     "name": "stdout",
     "output_type": "stream",
     "text": [
      "merged_and_categorical.csv  problem_data.csv  train_submissions.csv\r\n",
      "merged_dataset.csv          test_merged.csv   user_data.csv\r\n"
     ]
    }
   ],
   "source": [
    "ls"
   ]
  },
  {
   "cell_type": "code",
   "execution_count": 45,
   "metadata": {},
   "outputs": [],
   "source": [
    "test_df = pd.read_csv('test_merged.csv')"
   ]
  },
  {
   "cell_type": "code",
   "execution_count": 7,
   "metadata": {},
   "outputs": [
    {
     "name": "stdout",
     "output_type": "stream",
     "text": [
      "<class 'pandas.core.frame.DataFrame'>\n",
      "RangeIndex: 68453 entries, 0 to 68452\n",
      "Data columns (total 16 columns):\n",
      "Unnamed: 0                   68453 non-null int64\n",
      "ID                           66555 non-null object\n",
      "user_id                      66625 non-null object\n",
      "problem_id                   68383 non-null object\n",
      "submission_count             66625 non-null float64\n",
      "problem_solved               66625 non-null float64\n",
      "contribution                 66625 non-null float64\n",
      "country                      68453 non-null int64\n",
      "follower_count               66625 non-null float64\n",
      "last_online_time_seconds     66625 non-null float64\n",
      "max_rating                   66625 non-null float64\n",
      "rating                       66625 non-null float64\n",
      "rank                         66625 non-null float64\n",
      "registration_time_seconds    66625 non-null float64\n",
      "level_type                   68049 non-null float64\n",
      "points                       54456 non-null float64\n",
      "dtypes: float64(11), int64(2), object(3)\n",
      "memory usage: 8.4+ MB\n"
     ]
    }
   ],
   "source": [
    "test_df.info()"
   ]
  },
  {
   "cell_type": "code",
   "execution_count": 8,
   "metadata": {},
   "outputs": [
    {
     "data": {
      "text/plain": [
       "Index(['Unnamed: 0', 'ID', 'user_id', 'problem_id', 'submission_count',\n",
       "       'problem_solved', 'contribution', 'country', 'follower_count',\n",
       "       'last_online_time_seconds', 'max_rating', 'rating', 'rank',\n",
       "       'registration_time_seconds', 'level_type', 'points'],\n",
       "      dtype='object')"
      ]
     },
     "execution_count": 8,
     "metadata": {},
     "output_type": "execute_result"
    }
   ],
   "source": [
    "test_df.columns"
   ]
  },
  {
   "cell_type": "code",
   "execution_count": 46,
   "metadata": {
    "collapsed": true
   },
   "outputs": [],
   "source": [
    "# Retaining only those rows that have ID as a legit input\n",
    "test_df = test_df[pd.notnull(test_df['ID'])]"
   ]
  },
  {
   "cell_type": "code",
   "execution_count": 17,
   "metadata": {
    "collapsed": true
   },
   "outputs": [],
   "source": [
    "#importing merged and integral dataset\n",
    "\n",
    "train_df = pd.read_csv('merged_and_categorical.csv')\n",
    "train_df.dropna(inplace=True)"
   ]
  },
  {
   "cell_type": "code",
   "execution_count": 18,
   "metadata": {
    "collapsed": true
   },
   "outputs": [],
   "source": [
    "# training output\n",
    "\n",
    "Y_train = train_df['attempts_range']\n",
    "Y_train = Y_train.astype(int)"
   ]
  },
  {
   "cell_type": "code",
   "execution_count": 19,
   "metadata": {
    "collapsed": true
   },
   "outputs": [],
   "source": [
    "# training input dataset\n",
    "\n",
    "X_train = train_df[['submission_count',\n",
    "       'problem_solved', 'contribution', 'country', 'follower_count',\n",
    "       'last_online_time_seconds', 'max_rating', 'rating', 'rank',\n",
    "       'registration_time_seconds', 'level_type', 'points']]"
   ]
  },
  {
   "cell_type": "code",
   "execution_count": 57,
   "metadata": {
    "collapsed": true
   },
   "outputs": [],
   "source": [
    "# impprting test dataset that matches train dataset properties\n",
    "\n",
    "test_df = pd.read_csv('test_merged.csv')"
   ]
  },
  {
   "cell_type": "code",
   "execution_count": 58,
   "metadata": {
    "collapsed": true
   },
   "outputs": [],
   "source": [
    "# Retaining only those rows that have ID as a legit input\n",
    "test_df = test_df[pd.notnull(test_df['ID'])]"
   ]
  },
  {
   "cell_type": "code",
   "execution_count": 69,
   "metadata": {},
   "outputs": [
    {
     "name": "stdout",
     "output_type": "stream",
     "text": [
      "<class 'pandas.core.frame.DataFrame'>\n",
      "Int64Index: 66555 entries, 0 to 66554\n",
      "Data columns (total 16 columns):\n",
      "Unnamed: 0                   66555 non-null int64\n",
      "ID                           66555 non-null object\n",
      "user_id                      66555 non-null object\n",
      "problem_id                   66555 non-null object\n",
      "submission_count             66555 non-null float64\n",
      "problem_solved               66555 non-null float64\n",
      "contribution                 66555 non-null float64\n",
      "country                      66555 non-null int64\n",
      "follower_count               66555 non-null float64\n",
      "last_online_time_seconds     66555 non-null float64\n",
      "max_rating                   66555 non-null float64\n",
      "rating                       66555 non-null float64\n",
      "rank                         66555 non-null float64\n",
      "registration_time_seconds    66555 non-null float64\n",
      "level_type                   66270 non-null float64\n",
      "points                       54071 non-null float64\n",
      "dtypes: float64(11), int64(2), object(3)\n",
      "memory usage: 8.6+ MB\n"
     ]
    }
   ],
   "source": [
    "test_df.info()"
   ]
  },
  {
   "cell_type": "code",
   "execution_count": 59,
   "metadata": {
    "collapsed": true
   },
   "outputs": [],
   "source": [
    "# testing input dataset\n",
    "\n",
    "X_test = test_df[['submission_count',\n",
    "       'problem_solved', 'contribution', 'country', 'follower_count',\n",
    "       'last_online_time_seconds', 'max_rating', 'rating', 'rank',\n",
    "       'registration_time_seconds', 'level_type', 'points']]"
   ]
  },
  {
   "cell_type": "code",
   "execution_count": 22,
   "metadata": {},
   "outputs": [
    {
     "data": {
      "text/plain": [
       "array([ 0.54457449,  0.54253293,  0.54144348,  0.53577239,  0.54279592])"
      ]
     },
     "execution_count": 22,
     "metadata": {},
     "output_type": "execute_result"
    }
   ],
   "source": [
    "# Training and performing cross validation\n",
    "\n",
    "\n",
    "rf = RandomForestClassifier(n_estimators=500,max_depth =10, min_samples_split= 4 )\n",
    "scores = cross_val_score(rf, X_train, Y_train, cv=5, scoring='accuracy')\n",
    "scores"
   ]
  },
  {
   "cell_type": "code",
   "execution_count": 24,
   "metadata": {},
   "outputs": [
    {
     "data": {
      "text/plain": [
       "RandomForestClassifier(bootstrap=True, class_weight=None, criterion='gini',\n",
       "            max_depth=10, max_features='auto', max_leaf_nodes=None,\n",
       "            min_impurity_split=1e-07, min_samples_leaf=1,\n",
       "            min_samples_split=4, min_weight_fraction_leaf=0.0,\n",
       "            n_estimators=500, n_jobs=1, oob_score=False, random_state=None,\n",
       "            verbose=0, warm_start=False)"
      ]
     },
     "execution_count": 24,
     "metadata": {},
     "output_type": "execute_result"
    }
   ],
   "source": [
    "rf.fit(X_train, Y_train)"
   ]
  },
  {
   "cell_type": "code",
   "execution_count": 54,
   "metadata": {},
   "outputs": [
    {
     "name": "stdout",
     "output_type": "stream",
     "text": [
      "<class 'pandas.core.frame.DataFrame'>\n",
      "Int64Index: 66555 entries, 0 to 66554\n",
      "Data columns (total 12 columns):\n",
      "submission_count             66555 non-null float64\n",
      "problem_solved               66555 non-null float64\n",
      "contribution                 66555 non-null float64\n",
      "country                      66555 non-null int64\n",
      "follower_count               66555 non-null float64\n",
      "last_online_time_seconds     66555 non-null float64\n",
      "max_rating                   66555 non-null float64\n",
      "rating                       66555 non-null float64\n",
      "rank                         66555 non-null float64\n",
      "registration_time_seconds    66555 non-null float64\n",
      "level_type                   66270 non-null float64\n",
      "points                       54071 non-null float64\n",
      "dtypes: float64(11), int64(1)\n",
      "memory usage: 6.6 MB\n"
     ]
    }
   ],
   "source": [
    "X_test.info()"
   ]
  },
  {
   "cell_type": "code",
   "execution_count": 60,
   "metadata": {},
   "outputs": [],
   "source": [
    "#filling in missing values\n",
    "\n",
    "X_test = X_test.fillna(method='bfill')\n",
    "X_test = X_test.fillna(value = 0)"
   ]
  },
  {
   "cell_type": "code",
   "execution_count": 63,
   "metadata": {},
   "outputs": [
    {
     "name": "stdout",
     "output_type": "stream",
     "text": [
      "<class 'pandas.core.frame.DataFrame'>\n",
      "Int64Index: 66555 entries, 0 to 66554\n",
      "Data columns (total 12 columns):\n",
      "submission_count             66555 non-null float64\n",
      "problem_solved               66555 non-null float64\n",
      "contribution                 66555 non-null float64\n",
      "country                      66555 non-null int64\n",
      "follower_count               66555 non-null float64\n",
      "last_online_time_seconds     66555 non-null float64\n",
      "max_rating                   66555 non-null float64\n",
      "rating                       66555 non-null float64\n",
      "rank                         66555 non-null float64\n",
      "registration_time_seconds    66555 non-null float64\n",
      "level_type                   66555 non-null float64\n",
      "points                       66555 non-null float64\n",
      "dtypes: float64(11), int64(1)\n",
      "memory usage: 6.6 MB\n"
     ]
    }
   ],
   "source": [
    "X_test.info()"
   ]
  },
  {
   "cell_type": "code",
   "execution_count": 64,
   "metadata": {},
   "outputs": [],
   "source": [
    "# getting predictions\n",
    "\n",
    "pred = rf.predict(X_test)"
   ]
  },
  {
   "cell_type": "code",
   "execution_count": 70,
   "metadata": {},
   "outputs": [],
   "source": [
    "# creating submission file\n",
    "\n",
    "\n",
    "sol = pd.DataFrame({\"ID\" : test_df['ID'], \"attempts_range\" : pred})"
   ]
  },
  {
   "cell_type": "code",
   "execution_count": 72,
   "metadata": {},
   "outputs": [],
   "source": [
    "# saving it\n",
    "\n",
    "sol.to_csv(\"submission.csv\", index=False)"
   ]
  },
  {
   "cell_type": "code",
   "execution_count": null,
   "metadata": {
    "collapsed": true
   },
   "outputs": [],
   "source": []
  }
 ],
 "metadata": {
  "kernelspec": {
   "display_name": "Python 3",
   "language": "python",
   "name": "python3"
  },
  "language_info": {
   "codemirror_mode": {
    "name": "ipython",
    "version": 3
   },
   "file_extension": ".py",
   "mimetype": "text/x-python",
   "name": "python",
   "nbconvert_exporter": "python",
   "pygments_lexer": "ipython3",
   "version": "3.6.1"
  }
 },
 "nbformat": 4,
 "nbformat_minor": 2
}
