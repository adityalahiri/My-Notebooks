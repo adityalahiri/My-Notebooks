{
 "cells": [
  {
   "cell_type": "code",
   "execution_count": 12,
   "metadata": {
    "collapsed": true
   },
   "outputs": [],
   "source": [
    "# Importing modules\n",
    "\n",
    "import pandas as pd # for data wrangling\n",
    "import seaborn as sns # for plotting\n",
    "import matplotlib.pyplot as plt # for plotting\n",
    "import missingno as msno # for visualizing missing values in data\n",
    "import numpy as np # for array computations\n",
    "\n",
    "plt.style.use('ggplot') # setting style for matplotlib"
   ]
  },
  {
   "cell_type": "code",
   "execution_count": 13,
   "metadata": {
    "collapsed": true
   },
   "outputs": [],
   "source": [
    "# importing model specific libraries\n",
    "\n",
    "from sklearn.ensemble import RandomForestClassifier\n",
    "from sklearn.metrics import f1_score\n",
    "from sklearn.model_selection import train_test_split\n",
    "from sklearn import metrics\n",
    "from sklearn.model_selection import cross_val_score\n",
    "\n"
   ]
  },
  {
   "cell_type": "code",
   "execution_count": 14,
   "metadata": {},
   "outputs": [
    {
     "name": "stdout",
     "output_type": "stream",
     "text": [
      "[Errno 2] No such file or directory: 'train/'\n",
      "/home/arrayslayer/ML Competitions/Codefest/train\n"
     ]
    }
   ],
   "source": [
    "cd train/"
   ]
  },
  {
   "cell_type": "code",
   "execution_count": 15,
   "metadata": {
    "collapsed": true
   },
   "outputs": [],
   "source": [
    "#importing merged and integral dataset\n",
    "\n",
    "train_df = pd.read_csv('merged_and_categorical.csv')"
   ]
  },
  {
   "cell_type": "code",
   "execution_count": 16,
   "metadata": {
    "collapsed": true
   },
   "outputs": [],
   "source": [
    "train_df.dropna(inplace=True)"
   ]
  },
  {
   "cell_type": "code",
   "execution_count": 17,
   "metadata": {},
   "outputs": [
    {
     "data": {
      "text/plain": [
       "126014"
      ]
     },
     "execution_count": 17,
     "metadata": {},
     "output_type": "execute_result"
    }
   ],
   "source": [
    "len(train_df)"
   ]
  },
  {
   "cell_type": "code",
   "execution_count": 18,
   "metadata": {
    "collapsed": true
   },
   "outputs": [],
   "source": [
    "# removing a random column that was added\n",
    "del train_df['Unnamed: 0']"
   ]
  },
  {
   "cell_type": "code",
   "execution_count": 19,
   "metadata": {},
   "outputs": [
    {
     "data": {
      "text/html": [
       "<div>\n",
       "<style>\n",
       "    .dataframe thead tr:only-child th {\n",
       "        text-align: right;\n",
       "    }\n",
       "\n",
       "    .dataframe thead th {\n",
       "        text-align: left;\n",
       "    }\n",
       "\n",
       "    .dataframe tbody tr th {\n",
       "        vertical-align: top;\n",
       "    }\n",
       "</style>\n",
       "<table border=\"1\" class=\"dataframe\">\n",
       "  <thead>\n",
       "    <tr style=\"text-align: right;\">\n",
       "      <th></th>\n",
       "      <th>user_id</th>\n",
       "      <th>problem_id</th>\n",
       "      <th>attempts_range</th>\n",
       "      <th>submission_count</th>\n",
       "      <th>problem_solved</th>\n",
       "      <th>contribution</th>\n",
       "      <th>country</th>\n",
       "      <th>follower_count</th>\n",
       "      <th>last_online_time_seconds</th>\n",
       "      <th>max_rating</th>\n",
       "      <th>rating</th>\n",
       "      <th>rank</th>\n",
       "      <th>registration_time_seconds</th>\n",
       "      <th>level_type</th>\n",
       "      <th>points</th>\n",
       "    </tr>\n",
       "  </thead>\n",
       "  <tbody>\n",
       "    <tr>\n",
       "      <th>0</th>\n",
       "      <td>user_232</td>\n",
       "      <td>prob_6507</td>\n",
       "      <td>1.0</td>\n",
       "      <td>53.0</td>\n",
       "      <td>47.0</td>\n",
       "      <td>0.0</td>\n",
       "      <td>1</td>\n",
       "      <td>1.0</td>\n",
       "      <td>1.503634e+09</td>\n",
       "      <td>307.913</td>\n",
       "      <td>206.709</td>\n",
       "      <td>1</td>\n",
       "      <td>1.432111e+09</td>\n",
       "      <td>2.0</td>\n",
       "      <td>1000.0</td>\n",
       "    </tr>\n",
       "    <tr>\n",
       "      <th>1</th>\n",
       "      <td>user_1910</td>\n",
       "      <td>prob_6507</td>\n",
       "      <td>2.0</td>\n",
       "      <td>240.0</td>\n",
       "      <td>218.0</td>\n",
       "      <td>0.0</td>\n",
       "      <td>1</td>\n",
       "      <td>50.0</td>\n",
       "      <td>1.505253e+09</td>\n",
       "      <td>319.954</td>\n",
       "      <td>291.284</td>\n",
       "      <td>1</td>\n",
       "      <td>1.385471e+09</td>\n",
       "      <td>2.0</td>\n",
       "      <td>1000.0</td>\n",
       "    </tr>\n",
       "    <tr>\n",
       "      <th>2</th>\n",
       "      <td>user_1824</td>\n",
       "      <td>prob_6507</td>\n",
       "      <td>2.0</td>\n",
       "      <td>370.0</td>\n",
       "      <td>336.0</td>\n",
       "      <td>-10.0</td>\n",
       "      <td>2</td>\n",
       "      <td>30.0</td>\n",
       "      <td>1.505396e+09</td>\n",
       "      <td>307.339</td>\n",
       "      <td>295.585</td>\n",
       "      <td>1</td>\n",
       "      <td>1.471685e+09</td>\n",
       "      <td>2.0</td>\n",
       "      <td>1000.0</td>\n",
       "    </tr>\n",
       "    <tr>\n",
       "      <th>3</th>\n",
       "      <td>user_895</td>\n",
       "      <td>prob_6507</td>\n",
       "      <td>1.0</td>\n",
       "      <td>318.0</td>\n",
       "      <td>286.0</td>\n",
       "      <td>0.0</td>\n",
       "      <td>3</td>\n",
       "      <td>20.0</td>\n",
       "      <td>1.505511e+09</td>\n",
       "      <td>304.186</td>\n",
       "      <td>191.514</td>\n",
       "      <td>1</td>\n",
       "      <td>1.475530e+09</td>\n",
       "      <td>2.0</td>\n",
       "      <td>1000.0</td>\n",
       "    </tr>\n",
       "    <tr>\n",
       "      <th>4</th>\n",
       "      <td>user_779</td>\n",
       "      <td>prob_6507</td>\n",
       "      <td>1.0</td>\n",
       "      <td>463.0</td>\n",
       "      <td>410.0</td>\n",
       "      <td>0.0</td>\n",
       "      <td>2</td>\n",
       "      <td>39.0</td>\n",
       "      <td>1.504799e+09</td>\n",
       "      <td>374.713</td>\n",
       "      <td>374.713</td>\n",
       "      <td>2</td>\n",
       "      <td>1.437246e+09</td>\n",
       "      <td>2.0</td>\n",
       "      <td>1000.0</td>\n",
       "    </tr>\n",
       "  </tbody>\n",
       "</table>\n",
       "</div>"
      ],
      "text/plain": [
       "     user_id problem_id  attempts_range  submission_count  problem_solved  \\\n",
       "0   user_232  prob_6507             1.0              53.0            47.0   \n",
       "1  user_1910  prob_6507             2.0             240.0           218.0   \n",
       "2  user_1824  prob_6507             2.0             370.0           336.0   \n",
       "3   user_895  prob_6507             1.0             318.0           286.0   \n",
       "4   user_779  prob_6507             1.0             463.0           410.0   \n",
       "\n",
       "   contribution  country  follower_count  last_online_time_seconds  \\\n",
       "0           0.0        1             1.0              1.503634e+09   \n",
       "1           0.0        1            50.0              1.505253e+09   \n",
       "2         -10.0        2            30.0              1.505396e+09   \n",
       "3           0.0        3            20.0              1.505511e+09   \n",
       "4           0.0        2            39.0              1.504799e+09   \n",
       "\n",
       "   max_rating   rating  rank  registration_time_seconds  level_type  points  \n",
       "0     307.913  206.709     1               1.432111e+09         2.0  1000.0  \n",
       "1     319.954  291.284     1               1.385471e+09         2.0  1000.0  \n",
       "2     307.339  295.585     1               1.471685e+09         2.0  1000.0  \n",
       "3     304.186  191.514     1               1.475530e+09         2.0  1000.0  \n",
       "4     374.713  374.713     2               1.437246e+09         2.0  1000.0  "
      ]
     },
     "execution_count": 19,
     "metadata": {},
     "output_type": "execute_result"
    }
   ],
   "source": [
    "train_df.head()"
   ]
  },
  {
   "cell_type": "code",
   "execution_count": 26,
   "metadata": {
    "collapsed": true
   },
   "outputs": [],
   "source": [
    "# training output\n",
    "\n",
    "Y = train_df['attempts_range']\n",
    "Y = Y.astype(int)"
   ]
  },
  {
   "cell_type": "code",
   "execution_count": 21,
   "metadata": {
    "collapsed": true
   },
   "outputs": [],
   "source": [
    "# training input dataset\n",
    "\n",
    "X = train_df[['submission_count',\n",
    "       'problem_solved', 'contribution', 'country', 'follower_count',\n",
    "       'last_online_time_seconds', 'max_rating', 'rating', 'rank',\n",
    "       'registration_time_seconds', 'level_type', 'points']]"
   ]
  },
  {
   "cell_type": "code",
   "execution_count": 28,
   "metadata": {},
   "outputs": [
    {
     "data": {
      "text/plain": [
       "array([ 0.54473319,  0.54221552,  0.54144348,  0.5363676 ,  0.5418039 ])"
      ]
     },
     "execution_count": 28,
     "metadata": {},
     "output_type": "execute_result"
    }
   ],
   "source": [
    "# Training and performing cross validation\n",
    "\n",
    "\n",
    "rf = RandomForestClassifier(n_estimators=500,max_depth =10, min_samples_split= 4 )\n",
    "scores = cross_val_score(rf, X, Y, cv=5, scoring='accuracy')\n",
    "scores"
   ]
  },
  {
   "cell_type": "code",
   "execution_count": null,
   "metadata": {
    "collapsed": true
   },
   "outputs": [],
   "source": []
  }
 ],
 "metadata": {
  "kernelspec": {
   "display_name": "Python 3",
   "language": "python",
   "name": "python3"
  },
  "language_info": {
   "codemirror_mode": {
    "name": "ipython",
    "version": 3
   },
   "file_extension": ".py",
   "mimetype": "text/x-python",
   "name": "python",
   "nbconvert_exporter": "python",
   "pygments_lexer": "ipython3",
   "version": "3.6.1"
  }
 },
 "nbformat": 4,
 "nbformat_minor": 2
}
